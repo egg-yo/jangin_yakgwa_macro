{
 "cells": [
  {
   "attachments": {},
   "cell_type": "markdown",
   "metadata": {},
   "source": [
    "##### ver02 : 포켓몬빵 참고 (https://velog.io/@jisang8255/PYTHON%EC%84%A0%EC%B0%A9%EC%88%9C...%EA%B2%BD%EC%9F%81%EC%97%90%EC%84%9C-%EC%82%B4%EC%95%84%EB%82%A8%EC%9C%BC%EB%A0%A4%EB%A9%B4...feat.%ED%8F%AC00%EB%B9%B5)"
   ]
  },
  {
   "attachments": {},
   "cell_type": "markdown",
   "metadata": {},
   "source": [
    "##### 1) import packages"
   ]
  },
  {
   "cell_type": "code",
   "execution_count": 25,
   "metadata": {},
   "outputs": [],
   "source": [
    "from selenium import webdriver\n",
    "from selenium.webdriver.common.action_chains import ActionChains\n",
    "from selenium.webdriver.common.keys import Keys\n",
    "from selenium.webdriver.common.by import By   # xpath 불러오기위함\n",
    "import pyperclip\n",
    "import time"
   ]
  },
  {
   "cell_type": "code",
   "execution_count": 48,
   "metadata": {},
   "outputs": [],
   "source": [
    "### 크롬 드라이버 \n",
    "driver = webdriver.Chrome()"
   ]
  },
  {
   "cell_type": "code",
   "execution_count": 61,
   "metadata": {},
   "outputs": [],
   "source": [
    "### id/pw input 함수\n",
    "def copy_input(xpath, input):\n",
    "    pyperclip.copy(input)\n",
    "    driver.find_element(By.XPATH, xpath).click()\n",
    "    ActionChains(driver).key_down(Keys.CONTROL).send_keys('v').key_up(Keys.CONTROL).perform()\n",
    "    time.sleep(0.1)"
   ]
  },
  {
   "cell_type": "code",
   "execution_count": 66,
   "metadata": {},
   "outputs": [],
   "source": [
    "### id/pw 변수 생성 (차후 파일 불러오는 형식으로 변경 필요)\n",
    "id = 'dl8462'\n",
    "pw = 'todzmfla2023!'  \n",
    "# xpath = 'C:\\egg-yo\\jangin_yakgwa_macro'"
   ]
  },
  {
   "cell_type": "code",
   "execution_count": 69,
   "metadata": {},
   "outputs": [],
   "source": [
    "### 장인한과 위시리스트 페이지\n",
    "driver.get('https://janginthe.com/myshop/wish_list.html')\n"
   ]
  },
  {
   "cell_type": "code",
   "execution_count": 70,
   "metadata": {},
   "outputs": [],
   "source": [
    "### 장인한과 페이지에 id/pw 를 입력\n",
    "copy_input('//*[@id=\"member_id\"]', id)\n",
    "copy_input('//*[@id=\"member_passwd\"]', pw)\n",
    "# copy_input(xpath, id)\n",
    "# copy_input(xpath, pw)"
   ]
  },
  {
   "cell_type": "code",
   "execution_count": 71,
   "metadata": {},
   "outputs": [
    {
     "ename": "NoSuchElementException",
     "evalue": "Message: no such element: Unable to locate element: {\"method\":\"xpath\",\"selector\":\"//*[@id=\"member_form_8656713458\"]/div/div/fieldset/a\"}\n  (Session info: chrome=114.0.5735.134); For documentation on this error, please visit: https://www.selenium.dev/documentation/webdriver/troubleshooting/errors#no-such-element-exception\nStacktrace:\nBacktrace:\n\tGetHandleVerifier [0x00D2A813+48355]\n\t(No symbol) [0x00CBC4B1]\n\t(No symbol) [0x00BC5358]\n\t(No symbol) [0x00BF09A5]\n\t(No symbol) [0x00BF0B3B]\n\t(No symbol) [0x00C1E232]\n\t(No symbol) [0x00C0A784]\n\t(No symbol) [0x00C1C922]\n\t(No symbol) [0x00C0A536]\n\t(No symbol) [0x00BE82DC]\n\t(No symbol) [0x00BE93DD]\n\tGetHandleVerifier [0x00F8AABD+2539405]\n\tGetHandleVerifier [0x00FCA78F+2800735]\n\tGetHandleVerifier [0x00FC456C+2775612]\n\tGetHandleVerifier [0x00DB51E0+616112]\n\t(No symbol) [0x00CC5F8C]\n\t(No symbol) [0x00CC2328]\n\t(No symbol) [0x00CC240B]\n\t(No symbol) [0x00CB4FF7]\n\tBaseThreadInitThunk [0x7557FA29+25]\n\tRtlGetAppContainerNamedObjectPath [0x77237A7E+286]\n\tRtlGetAppContainerNamedObjectPath [0x77237A4E+238]\n",
     "output_type": "error",
     "traceback": [
      "\u001b[1;31m---------------------------------------------------------------------------\u001b[0m",
      "\u001b[1;31mNoSuchElementException\u001b[0m                    Traceback (most recent call last)",
      "Cell \u001b[1;32mIn[71], line 3\u001b[0m\n\u001b[0;32m      1\u001b[0m \u001b[39m### 장인한과 페이지에 id/pw 를 입력 후 클릭\u001b[39;00m\n\u001b[0;32m      2\u001b[0m \u001b[39m# '/html/body/div[1]/div[2]/div/div[2]/div/form/button[1]'\u001b[39;00m\n\u001b[1;32m----> 3\u001b[0m driver\u001b[39m.\u001b[39;49mfind_element(By\u001b[39m.\u001b[39;49mXPATH, \u001b[39m'\u001b[39;49m\u001b[39m//*[@id=\u001b[39;49m\u001b[39m\"\u001b[39;49m\u001b[39mmember_form_8656713458\u001b[39;49m\u001b[39m\"\u001b[39;49m\u001b[39m]/div/div/fieldset/a\u001b[39;49m\u001b[39m'\u001b[39;49m)\u001b[39m.\u001b[39mclick()\n",
      "File \u001b[1;32mc:\\Users\\dldms\\AppData\\Local\\Programs\\Python\\Python310\\lib\\site-packages\\selenium\\webdriver\\remote\\webdriver.py:740\u001b[0m, in \u001b[0;36mWebDriver.find_element\u001b[1;34m(self, by, value)\u001b[0m\n\u001b[0;32m    737\u001b[0m     by \u001b[39m=\u001b[39m By\u001b[39m.\u001b[39mCSS_SELECTOR\n\u001b[0;32m    738\u001b[0m     value \u001b[39m=\u001b[39m \u001b[39mf\u001b[39m\u001b[39m'\u001b[39m\u001b[39m[name=\u001b[39m\u001b[39m\"\u001b[39m\u001b[39m{\u001b[39;00mvalue\u001b[39m}\u001b[39;00m\u001b[39m\"\u001b[39m\u001b[39m]\u001b[39m\u001b[39m'\u001b[39m\n\u001b[1;32m--> 740\u001b[0m \u001b[39mreturn\u001b[39;00m \u001b[39mself\u001b[39;49m\u001b[39m.\u001b[39;49mexecute(Command\u001b[39m.\u001b[39;49mFIND_ELEMENT, {\u001b[39m\"\u001b[39;49m\u001b[39musing\u001b[39;49m\u001b[39m\"\u001b[39;49m: by, \u001b[39m\"\u001b[39;49m\u001b[39mvalue\u001b[39;49m\u001b[39m\"\u001b[39;49m: value})[\u001b[39m\"\u001b[39m\u001b[39mvalue\u001b[39m\u001b[39m\"\u001b[39m]\n",
      "File \u001b[1;32mc:\\Users\\dldms\\AppData\\Local\\Programs\\Python\\Python310\\lib\\site-packages\\selenium\\webdriver\\remote\\webdriver.py:346\u001b[0m, in \u001b[0;36mWebDriver.execute\u001b[1;34m(self, driver_command, params)\u001b[0m\n\u001b[0;32m    344\u001b[0m response \u001b[39m=\u001b[39m \u001b[39mself\u001b[39m\u001b[39m.\u001b[39mcommand_executor\u001b[39m.\u001b[39mexecute(driver_command, params)\n\u001b[0;32m    345\u001b[0m \u001b[39mif\u001b[39;00m response:\n\u001b[1;32m--> 346\u001b[0m     \u001b[39mself\u001b[39;49m\u001b[39m.\u001b[39;49merror_handler\u001b[39m.\u001b[39;49mcheck_response(response)\n\u001b[0;32m    347\u001b[0m     response[\u001b[39m\"\u001b[39m\u001b[39mvalue\u001b[39m\u001b[39m\"\u001b[39m] \u001b[39m=\u001b[39m \u001b[39mself\u001b[39m\u001b[39m.\u001b[39m_unwrap_value(response\u001b[39m.\u001b[39mget(\u001b[39m\"\u001b[39m\u001b[39mvalue\u001b[39m\u001b[39m\"\u001b[39m, \u001b[39mNone\u001b[39;00m))\n\u001b[0;32m    348\u001b[0m     \u001b[39mreturn\u001b[39;00m response\n",
      "File \u001b[1;32mc:\\Users\\dldms\\AppData\\Local\\Programs\\Python\\Python310\\lib\\site-packages\\selenium\\webdriver\\remote\\errorhandler.py:245\u001b[0m, in \u001b[0;36mErrorHandler.check_response\u001b[1;34m(self, response)\u001b[0m\n\u001b[0;32m    243\u001b[0m         alert_text \u001b[39m=\u001b[39m value[\u001b[39m\"\u001b[39m\u001b[39malert\u001b[39m\u001b[39m\"\u001b[39m]\u001b[39m.\u001b[39mget(\u001b[39m\"\u001b[39m\u001b[39mtext\u001b[39m\u001b[39m\"\u001b[39m)\n\u001b[0;32m    244\u001b[0m     \u001b[39mraise\u001b[39;00m exception_class(message, screen, stacktrace, alert_text)  \u001b[39m# type: ignore[call-arg]  # mypy is not smart enough here\u001b[39;00m\n\u001b[1;32m--> 245\u001b[0m \u001b[39mraise\u001b[39;00m exception_class(message, screen, stacktrace)\n",
      "\u001b[1;31mNoSuchElementException\u001b[0m: Message: no such element: Unable to locate element: {\"method\":\"xpath\",\"selector\":\"//*[@id=\"member_form_8656713458\"]/div/div/fieldset/a\"}\n  (Session info: chrome=114.0.5735.134); For documentation on this error, please visit: https://www.selenium.dev/documentation/webdriver/troubleshooting/errors#no-such-element-exception\nStacktrace:\nBacktrace:\n\tGetHandleVerifier [0x00D2A813+48355]\n\t(No symbol) [0x00CBC4B1]\n\t(No symbol) [0x00BC5358]\n\t(No symbol) [0x00BF09A5]\n\t(No symbol) [0x00BF0B3B]\n\t(No symbol) [0x00C1E232]\n\t(No symbol) [0x00C0A784]\n\t(No symbol) [0x00C1C922]\n\t(No symbol) [0x00C0A536]\n\t(No symbol) [0x00BE82DC]\n\t(No symbol) [0x00BE93DD]\n\tGetHandleVerifier [0x00F8AABD+2539405]\n\tGetHandleVerifier [0x00FCA78F+2800735]\n\tGetHandleVerifier [0x00FC456C+2775612]\n\tGetHandleVerifier [0x00DB51E0+616112]\n\t(No symbol) [0x00CC5F8C]\n\t(No symbol) [0x00CC2328]\n\t(No symbol) [0x00CC240B]\n\t(No symbol) [0x00CB4FF7]\n\tBaseThreadInitThunk [0x7557FA29+25]\n\tRtlGetAppContainerNamedObjectPath [0x77237A7E+286]\n\tRtlGetAppContainerNamedObjectPath [0x77237A4E+238]\n"
     ]
    }
   ],
   "source": [
    "### 장인한과 페이지에 id/pw 를 입력 후 클릭\n",
    "# '/html/body/div[1]/div[2]/div/div[2]/div/form/button[1]'\n",
    "# //*[@id=\"member_form_3781651478\"]/div/div/fieldset/a\n",
    "### form key가 계속 달라짐...\n",
    "driver.find_element(By.XPATH, '//*[@id=\"member_form_8656713458\"]/div/div/fieldset/a').click()"
   ]
  },
  {
   "cell_type": "code",
   "execution_count": null,
   "metadata": {},
   "outputs": [],
   "source": []
  }
 ],
 "metadata": {
  "kernelspec": {
   "display_name": "Python 3",
   "language": "python",
   "name": "python3"
  },
  "language_info": {
   "codemirror_mode": {
    "name": "ipython",
    "version": 3
   },
   "file_extension": ".py",
   "mimetype": "text/x-python",
   "name": "python",
   "nbconvert_exporter": "python",
   "pygments_lexer": "ipython3",
   "version": "3.10.5"
  },
  "orig_nbformat": 4
 },
 "nbformat": 4,
 "nbformat_minor": 2
}
