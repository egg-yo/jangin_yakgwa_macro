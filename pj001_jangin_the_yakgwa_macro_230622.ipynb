{
 "cells": [
  {
   "attachments": {},
   "cell_type": "markdown",
   "metadata": {},
   "source": [
    "### ver01 : 네이버페이 선착순구매 매크로 참고"
   ]
  },
  {
   "attachments": {},
   "cell_type": "markdown",
   "metadata": {},
   "source": [
    "##### \"장인,더\" 매크로 만들기!!"
   ]
  },
  {
   "attachments": {},
   "cell_type": "markdown",
   "metadata": {},
   "source": [
    "###### ~ 장인약과를 양손에 쥐고 먹는 그날까지 ~"
   ]
  },
  {
   "attachments": {},
   "cell_type": "markdown",
   "metadata": {},
   "source": [
    "##### 1) import packages"
   ]
  },
  {
   "cell_type": "code",
   "execution_count": 7,
   "metadata": {},
   "outputs": [],
   "source": [
    "import os\n",
    "import threading\n",
    "import platform\n",
    "import subprocess\n",
    "import time\n",
    "import pyautogui\n",
    "from pynput.mouse import Button, Controller\n",
    "# import cv2\n",
    "import datetime\n",
    "from datetime import timedelta\n",
    "from selenium import webdriver\n",
    "from selenium.webdriver.chrome.options import Options\n",
    "from selenium.webdriver.common.desired_capabilities import DesiredCapabilities\n",
    "from selenium.webdriver.common.by import By\n",
    "from selenium.webdriver.support.ui import WebDriverWait\n",
    "from selenium.webdriver.support import expected_conditions as EC\n",
    "# from selenium.common.exceptions import ElementClickInterceptedException, imeoutException, NoSuchElementException,  NoSuchWindowException, WebDriverException\n"
   ]
  },
  {
   "attachments": {},
   "cell_type": "markdown",
   "metadata": {},
   "source": [
    "##### 2) data"
   ]
  },
  {
   "cell_type": "code",
   "execution_count": 19,
   "metadata": {},
   "outputs": [],
   "source": [
    "### \n",
    "def copy_input(xpath, input):\n",
    "    pyperclip.copy(input)\n",
    "    driver.find_element_by_xpath(xpath).click()\n",
    "    ActionChains(driver).key_down(Keys.CONTROL).send_keys('v').key_up(Keys.CONTROL).perform()\n",
    "    time.sleep(0.1)"
   ]
  },
  {
   "cell_type": "code",
   "execution_count": 8,
   "metadata": {},
   "outputs": [],
   "source": [
    "if os.name == 'nt':\n",
    "    from ctypes import windll\n",
    "\n",
    "    is_retina = False\n",
    "    if platform.system() == \"Darwin\":\n",
    "        is_retina = subprocess.call(\"system_profiler SPDisplaysDataType | grep 'retina'\", shell=True)\n",
    "else:\n",
    "    is_retina = True\n",
    "\n",
    "mouse = Controller()"
   ]
  },
  {
   "cell_type": "code",
   "execution_count": 9,
   "metadata": {},
   "outputs": [],
   "source": [
    "### N개로 수행할 수 있도록 클래스 생성\n",
    "class Browser:\n",
    "    def __init__(self, user_id, password, pay_number):\n",
    "        self.timeout = 2\n",
    "        self.user_id = user_id\n",
    "        self.password = password\n",
    "        self.pay_number = pay_number\n",
    "\n",
    "        self.base_width = 1920\n",
    "        self.base_height = 1080\n",
    "\n",
    "        # 모니터 해상도 가져오기\n",
    "        self.scr_width, self.scr_height = pyautogui.size()\n",
    "        print('width={0}, height={1}'.format(self.scr_width, self.scr_height))\n",
    "\n",
    "        self.w_rat = self.base_width / self.scr_width\n",
    "        self.h_rat = self.base_height / self.scr_height\n",
    "\n",
    "        if os.name == 'nt':\n",
    "            user32 = windll.user32\n",
    "            user32.SetProcessDPIAware()"
   ]
  },
  {
   "cell_type": "code",
   "execution_count": 10,
   "metadata": {},
   "outputs": [],
   "source": [
    " def popup(self):\n",
    "        chrome_options = Options()\n",
    "        #chrome_options.add_argument('--headless')\n",
    "        chrome_options.add_argument('--no-sandbox')\n",
    "        chrome_options.add_argument('--disable-gpu')\n",
    "        chrome_options.add_argument('window-size=1920x1080')  # 가져올 크기를 결정\n",
    "\n",
    "        self.driver = webdriver.Chrome('chromedriver', chrome_options=chrome_options)"
   ]
  },
  {
   "cell_type": "code",
   "execution_count": 11,
   "metadata": {},
   "outputs": [],
   "source": [
    "### 구매시 옵션 선택\n",
    "def setOption(self, url, combo=True, option='', another=True):\n",
    "        self.url = url\n",
    "        self.combo = combo\n",
    "        self.option = option\n",
    "        self.another = another"
   ]
  },
  {
   "cell_type": "code",
   "execution_count": 12,
   "metadata": {},
   "outputs": [],
   "source": [
    "### 로그인 수행\n",
    "def login(self):\n",
    "        # 장인약과 홈페이지 Login\n",
    "        self.driver.get('https://janginthe.com/member/login.html')\n",
    "        self.driver.execute_script(\"document.getElementsByName('id')[0].value=\\'\" + self.user_id + \"\\'\") # 자동로그인방지를 우회하기 위해 스크립트로 id와 PW 변경\n",
    "        self.driver.execute_script(\"document.getElementsByName('pw')[0].value=\\'\" + self.password + \"\\'\")\n",
    "        WebDriverWait(self.driver, self.timeout).until(EC.element_to_be_clickable((By.XPATH, '//*[@id=\"frmNIDLogin\"]/fieldset/input'))).click()\n",
    "        # self.driver.find_element_by_xpath('//*[@id=\"frmNIDLogin\"]/fieldset/input').click()\n",
    "\n",
    "        print('{} 로그인'.format(self.user_id))\n",
    "        time.sleep(1)"
   ]
  },
  {
   "cell_type": "code",
   "execution_count": 16,
   "metadata": {},
   "outputs": [],
   "source": [
    "### 상품의 재고 여부 조회 (재고가 존재할때까지 반복 수행)\n",
    "def checkStock(self):\n",
    "        print('{} 상품 재고 조회'.format(self.user_id))\n",
    "        fiedset = WebDriverWait(self.driver, self.timeout).until(EC.element_to_be_clickable((By.CLASS_NAME, 'prd_num')))\n",
    "\n",
    "        while True:\n",
    "            self.driver.refresh()\n",
    "            try:\n",
    "                not_good = self.driver.find_element_by_class_name('not_goods')\n",
    "            except NoSuchElementException:\n",
    "                not_good = ''\n",
    "                break\n",
    "\n",
    "        if self.combo:\n",
    "            try:\n",
    "                self.option_combo = WebDriverWait(self.driver, 2).until(EC.element_to_be_clickable((By.CLASS_NAME, '_combination_option')))\n",
    "                all_options = self.option_combo.find_elements_by_tag_name(\"option\")\n",
    "\n",
    "                try:\n",
    "                    product_list = WebDriverWait(self.driver, self.timeout).until(EC.element_to_be_clickable((By.CLASS_NAME, 'opt_price')))\n",
    "                    index = next(idx for idx, option in enumerate(all_options) if\n",
    "                                 option.get_attribute(\"text\") not in [\"사이즈\", \"필수옵션\"] and option.get_attribute(\n",
    "                                     \"title\") == self.option)\n",
    "\n",
    "                    # 입력한 옵션값이 있을 경우 품절여부 판단\n",
    "                    if index > 0:\n",
    "                        sold_out = all_options[1].get_attribute(\"text\").find(\"품절\") > -1\n",
    "\n",
    "                        # 입력한 옵션은 품절이지만 다른 상품구매도 원한다면 변경하여 진행\n",
    "                        if sold_out and self.another:\n",
    "                            try:\n",
    "                                index = next(idx for idx, option in enumerate(all_options) if\n",
    "                                             option.get_attribute(\"text\") not in [\"사이즈\", \"필수옵션\"] and option.get_attribute(\n",
    "                                                 \"text\").find(\"품절\") == -1)\n",
    "                            except StopIteration:\n",
    "                                print('전상품 품절')\n",
    "                                time.sleep(600)\n",
    "                        elif sold_out:\n",
    "                            print('{} 품절 - 재조회'.format(self.option))\n",
    "                            self.driver.get(self.url)\n",
    "                            thread = threading.Thread(target=self.checkStock)\n",
    "                            thread.start()\n",
    "\n",
    "                except StopIteration:\n",
    "                    print('입력값에 해당하는 옵션 없음'.format(self.option))\n",
    "                    if self.another:\n",
    "                        try:\n",
    "                            index = next(idx for idx, option in enumerate(all_options) if\n",
    "                                         option.get_attribute(\"text\") not in [\"사이즈\", \"필수옵션\"] and option.get_attribute(\n",
    "                                             \"text\").find(\"품절\") == -1)\n",
    "                        except StopIteration:\n",
    "                            print('전상품 품절')\n",
    "                            time.sleep(600)\n",
    "                    else:\n",
    "                        print('더이상 진행하지 않음')\n",
    "                        time.sleep(600)\n",
    "            except TimeoutException:\n",
    "                print('서버폭주로 비활성화')\n",
    "                self.driver.get(self.url)\n",
    "                thread = threading.Thread(target=self.checkStock)\n",
    "                thread.start()\n",
    "\n",
    "            if self.another:\n",
    "                input_option = all_options[index].get_attribute(\"title\")\n",
    "                self.option_combo.send_keys(input_option)\n",
    "            else:\n",
    "                try:\n",
    "                    self.option_combo.send_keys(self.option)\n",
    "                except AttributeError:\n",
    "                    print('Combobox Error')\n",
    "                    self.driver.get(self.url)\n",
    "                    thread = threading.Thread(target=self.checkStock)\n",
    "                    thread.start()\n",
    "\n",
    "        self.checkout()"
   ]
  },
  {
   "cell_type": "code",
   "execution_count": 18,
   "metadata": {},
   "outputs": [
    {
     "ename": "IndentationError",
     "evalue": "unindent does not match any outer indentation level (<tokenize>, line 22)",
     "output_type": "error",
     "traceback": [
      "\u001b[1;36m  File \u001b[1;32m<tokenize>:22\u001b[1;36m\u001b[0m\n\u001b[1;33m    def order(self):\u001b[0m\n\u001b[1;37m    ^\u001b[0m\n\u001b[1;31mIndentationError\u001b[0m\u001b[1;31m:\u001b[0m unindent does not match any outer indentation level\n"
     ]
    }
   ],
   "source": [
    "def selectItem(self, option_combo):\n",
    "        if self.combo:\n",
    "            try:\n",
    "                purchase_list = self.driver.find_elements_by_class_name('_purchase_unit')\n",
    "\n",
    "                if purchase_list:\n",
    "                    for item in purchase_list:\n",
    "                        item_text = item.find_elements_by_tag_name('em')[0].text\n",
    "                        if self.option != item_text:\n",
    "                            btn_del = item.find_element_by_partial_link_text(\"삭제\")\n",
    "                            btn_del.click()\n",
    "\n",
    "                    purchase_list = self.driver.find_elements_by_class_name('_purchase_unit')\n",
    "\n",
    "                    if purchase_list == []:\n",
    "                        option_combo.send_keys(self.option)\n",
    "                else:\n",
    "                    option_combo.send_keys(self.option)\n",
    "            except NoSuchElementException:\n",
    "                option_combo.send_keys(self.option)\n",
    "\n",
    "    def order(self):\n",
    "        btn_pay = WebDriverWait(self.driver, self.timeout).until(\n",
    "            EC.element_to_be_clickable((By.CLASS_NAME, 'btn_payment')))\n",
    "\n",
    "        # storing the current window handle to get back to dashbord\n",
    "        main_page = self.driver.current_window_handle\n",
    "\n",
    "        btn_pay.click()\n",
    "\n",
    "        print('{} 구매완료'.format(self.user_id))\n",
    "        # 10분간 대기 이후 Thread는 종료\n",
    "        time.sleep(600)\n",
    "\n",
    "    def startBrowser(self):\n",
    "        self.popup()\n",
    "\n",
    "        self.login()\n",
    "\n",
    "        # Url로 이동\n",
    "        self.driver.get(self.url)\n",
    "        print('{} Url로 이동'.format(self.user_id))\n",
    "\n",
    "        self.checkStock()"
   ]
  },
  {
   "cell_type": "code",
   "execution_count": null,
   "metadata": {},
   "outputs": [],
   "source": [
    "browser1 = Browser(아이디, 패스워드, 페이번호)\n",
    "browser1.setOption('https://smartstore.naver.com/mfbshop/products/4819214174', True, 'Small (소)', False)\n",
    "browser_thread1 = threading.Thread(target=browser1.startBrowser)\n",
    "browser_thread1.start()"
   ]
  }
 ],
 "metadata": {
  "kernelspec": {
   "display_name": "Python 3.6.7 ('base')",
   "language": "python",
   "name": "python3"
  },
  "language_info": {
   "codemirror_mode": {
    "name": "ipython",
    "version": 3
   },
   "file_extension": ".py",
   "mimetype": "text/x-python",
   "name": "python",
   "nbconvert_exporter": "python",
   "pygments_lexer": "ipython3",
   "version": "3.10.5"
  },
  "orig_nbformat": 4,
  "vscode": {
   "interpreter": {
    "hash": "450a25425a0fc7ddfb30dbe45eee44033a48d1143bf46718c09b092823974aa1"
   }
  }
 },
 "nbformat": 4,
 "nbformat_minor": 2
}
